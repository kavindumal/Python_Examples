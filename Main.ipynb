{
 "cells": [
  {
   "cell_type": "code",
   "execution_count": 5,
   "metadata": {},
   "outputs": [
    {
     "name": "stdout",
     "output_type": "stream",
     "text": [
      "10\n",
      "<class 'int'>\n",
      "10 <class 'int'>\n"
     ]
    }
   ],
   "source": [
    "a = 10\n",
    "print(a)\n",
    "print(type(a)) \n",
    "print(a, type(a))"
   ]
  },
  {
   "cell_type": "code",
   "execution_count": 6,
   "metadata": {},
   "outputs": [
    {
     "name": "stdout",
     "output_type": "stream",
     "text": [
      "The type of variable having value  10  is  <class 'int'> \n"
     ]
    }
   ],
   "source": [
    "a = 10 \n",
    "print(\"The type of variable having value \", a ,\" is \", type(a) ,\"\")"
   ]
  },
  {
   "cell_type": "code",
   "execution_count": 7,
   "metadata": {},
   "outputs": [
    {
     "name": "stdout",
     "output_type": "stream",
     "text": [
      "25000.0 <class 'float'>\n"
     ]
    }
   ],
   "source": [
    "a = 2.5e4\n",
    "print(a, type(a))"
   ]
  },
  {
   "cell_type": "code",
   "execution_count": 8,
   "metadata": {},
   "outputs": [
    {
     "name": "stdout",
     "output_type": "stream",
     "text": [
      "5.0 <class 'float'>\n"
     ]
    }
   ],
   "source": [
    "a = 5\n",
    "b = float(a)\n",
    "print(b, type(b))"
   ]
  },
  {
   "cell_type": "code",
   "execution_count": 9,
   "metadata": {},
   "outputs": [
    {
     "name": "stdout",
     "output_type": "stream",
     "text": [
      "7 <class 'int'>\n"
     ]
    }
   ],
   "source": [
    "c = 7.0\n",
    "d = int(c)\n",
    "print(d, type(d))"
   ]
  },
  {
   "cell_type": "code",
   "execution_count": 10,
   "metadata": {},
   "outputs": [
    {
     "name": "stdout",
     "output_type": "stream",
     "text": [
      "[1, 2, 3, 4, 5] <class 'list'>\n"
     ]
    }
   ],
   "source": [
    "mg_list = [1, 2, 3, 4, 5]\n",
    "print(mg_list, type(mg_list))"
   ]
  },
  {
   "cell_type": "code",
   "execution_count": 11,
   "metadata": {},
   "outputs": [
    {
     "name": "stdout",
     "output_type": "stream",
     "text": [
      "4\n"
     ]
    }
   ],
   "source": [
    "mg_list = [1, 2, 3, 4, 5]\n",
    "print(mg_list[3])"
   ]
  },
  {
   "cell_type": "code",
   "execution_count": 12,
   "metadata": {},
   "outputs": [
    {
     "name": "stdout",
     "output_type": "stream",
     "text": [
      "[1, 2, 'Car', True, 5] <class 'list'>\n"
     ]
    }
   ],
   "source": [
    "mg_list = [1, 2, 'Car', True, 5]\n",
    "print(mg_list, type(mg_list))"
   ]
  },
  {
   "cell_type": "code",
   "execution_count": 13,
   "metadata": {},
   "outputs": [
    {
     "name": "stdout",
     "output_type": "stream",
     "text": [
      "Length of the mg_list is  5\n"
     ]
    }
   ],
   "source": [
    "mg_list = [1, 2, 'Car', True, 5]\n",
    "print(\"Length of the mg_list is \", len(mg_list))"
   ]
  },
  {
   "cell_type": "code",
   "execution_count": 14,
   "metadata": {},
   "outputs": [
    {
     "name": "stdout",
     "output_type": "stream",
     "text": [
      "True\n"
     ]
    }
   ],
   "source": [
    "mg_list = [1, 2, 'Car', True, 5]\n",
    "print(mg_list[-2])"
   ]
  },
  {
   "cell_type": "code",
   "execution_count": 15,
   "metadata": {},
   "outputs": [
    {
     "name": "stdout",
     "output_type": "stream",
     "text": [
      "[2, 'Car', True] <class 'list'>\n"
     ]
    }
   ],
   "source": [
    "mg_list = [1, 2, 'Car', True, 5]\n",
    "print(mg_list[1:4], type(mg_list[1:4]))"
   ]
  },
  {
   "cell_type": "code",
   "execution_count": 16,
   "metadata": {},
   "outputs": [
    {
     "name": "stdout",
     "output_type": "stream",
     "text": [
      "[1, 2, 'Car'] <class 'list'>\n"
     ]
    }
   ],
   "source": [
    "mg_list = [1, 2, 'Car', True, 5]\n",
    "print(mg_list[:3], type(mg_list[:3]))"
   ]
  },
  {
   "cell_type": "code",
   "execution_count": 17,
   "metadata": {},
   "outputs": [
    {
     "name": "stdout",
     "output_type": "stream",
     "text": [
      "['Car', True, 5] <class 'list'>\n"
     ]
    }
   ],
   "source": [
    "mg_list = [1, 2, 'Car', True, 5]\n",
    "print(mg_list[2:], type(mg_list[2:]))"
   ]
  },
  {
   "cell_type": "code",
   "execution_count": 18,
   "metadata": {},
   "outputs": [
    {
     "name": "stdout",
     "output_type": "stream",
     "text": [
      "[10, 'Parrot', 17.0, 'Dog', True]\n"
     ]
    }
   ],
   "source": [
    "# Exercise \n",
    "\n",
    "mg_list = [10, 5, 'Cat', \"Dog\", True]\n",
    "mg_list[1:3] = \"Parrot\", 17.0\n",
    "print(mg_list)"
   ]
  },
  {
   "cell_type": "code",
   "execution_count": 19,
   "metadata": {},
   "outputs": [
    {
     "name": "stdout",
     "output_type": "stream",
     "text": [
      "[10, 5, 'Bat', 'Cat', 'Dog', True] 6\n"
     ]
    }
   ],
   "source": [
    "mg_list = [10, 5, 'Cat', \"Dog\", True]\n",
    "mg_list.insert(2, \"Bat\")\n",
    "print(mg_list, len(mg_list))"
   ]
  },
  {
   "cell_type": "code",
   "execution_count": 20,
   "metadata": {},
   "outputs": [
    {
     "name": "stdout",
     "output_type": "stream",
     "text": [
      "[10, 5, 'Cat', 'Dog', True, 'Bat'] 6\n"
     ]
    }
   ],
   "source": [
    "mg_list = [10, 5, 'Cat', \"Dog\", True]\n",
    "mg_list.append(\"Bat\")\n",
    "print(mg_list, len(mg_list))"
   ]
  },
  {
   "cell_type": "code",
   "execution_count": 21,
   "metadata": {},
   "outputs": [
    {
     "name": "stdout",
     "output_type": "stream",
     "text": [
      "[10, 5, 'Cat', 'Dog', True, 'Parrot', False] 7\n"
     ]
    }
   ],
   "source": [
    "mg_list = [10, 5, 'Cat', \"Dog\", True]\n",
    "mg_list_1 = [\"Parrot\", False]\n",
    "mg_list.extend(mg_list_1)\n",
    "print(mg_list, len(mg_list))"
   ]
  },
  {
   "cell_type": "code",
   "execution_count": 22,
   "metadata": {},
   "outputs": [
    {
     "name": "stdout",
     "output_type": "stream",
     "text": [
      "[10, 5, 'Dog', True] 4\n"
     ]
    }
   ],
   "source": [
    "mg_list = [10, 5, 'Cat', \"Dog\", True]\n",
    "del mg_list[2]\n",
    "print(mg_list, len(mg_list))"
   ]
  },
  {
   "cell_type": "code",
   "execution_count": 23,
   "metadata": {},
   "outputs": [
    {
     "name": "stdout",
     "output_type": "stream",
     "text": [
      "['apple', 'banana', 'grapes', 'orange', 'pineapple'] 5\n"
     ]
    }
   ],
   "source": [
    "mg_list = [\"grapes\", \"apple\", \"orange\", \"pineapple\", \"banana\"]\n",
    "mg_list.sort()\n",
    "print(mg_list, len(mg_list))"
   ]
  },
  {
   "cell_type": "code",
   "execution_count": 24,
   "metadata": {},
   "outputs": [
    {
     "name": "stdout",
     "output_type": "stream",
     "text": [
      "['Grapes', 'apple', 'banana', 'orange', 'pineapple'] 5\n"
     ]
    }
   ],
   "source": [
    "mg_list = [\"Grapes\", \"apple\", \"orange\", \"pineapple\", \"banana\"]\n",
    "mg_list.sort()\n",
    "print(mg_list, len(mg_list))"
   ]
  },
  {
   "cell_type": "code",
   "execution_count": 25,
   "metadata": {},
   "outputs": [
    {
     "name": "stdout",
     "output_type": "stream",
     "text": [
      "['apple', 'banana', 'Grapes', 'orange', 'pineapple'] 5\n"
     ]
    }
   ],
   "source": [
    "mg_list = [\"Grapes\", \"apple\", \"orange\", \"pineapple\", \"banana\"]\n",
    "mg_list.sort(key=str.lower)\n",
    "print(mg_list, len(mg_list))"
   ]
  },
  {
   "cell_type": "code",
   "execution_count": 26,
   "metadata": {},
   "outputs": [
    {
     "name": "stdout",
     "output_type": "stream",
     "text": [
      "['pineapple', 'orange', 'banana', 'apple', 'Grapes'] 5\n"
     ]
    }
   ],
   "source": [
    "mg_list = [\"Grapes\", \"apple\", \"orange\", \"pineapple\", \"banana\"]\n",
    "mg_list.sort(reverse=True)\n",
    "print(mg_list, len(mg_list))"
   ]
  },
  {
   "cell_type": "code",
   "execution_count": 27,
   "metadata": {},
   "outputs": [
    {
     "name": "stdout",
     "output_type": "stream",
     "text": [
      "[12, 10, 13, 4, 1, 5, 6, 1, 7, 8, 10]\n",
      "Sorted list is  [1, 1, 4, 5, 6, 7, 8, 10, 10, 12, 13]\n",
      "Median of my_list is  7\n",
      "Q1 of my_list is  4\n",
      "Q2 of my_list is  10\n"
     ]
    }
   ],
   "source": [
    "# Exercise\n",
    "\n",
    "my_list = [12, 10, 13, 4, 1, 5]\n",
    "my_list_2 = [6, 1, 7, 8, 10]\n",
    "\n",
    "my_list_3 = my_list + my_list_2\n",
    "\n",
    "print(my_list_3)\n",
    "\n",
    "sorted_list = sorted(my_list_3)\n",
    "print(\"Sorted list is \", sorted_list)\n",
    "n = len(sorted_list)\n",
    "\n",
    "# Median of my_list\n",
    "median = (sorted_list[n // 2] + sorted_list[n // 2 - 1]) / 2 if n % 2 == 0 else sorted_list[n // 2]\n",
    "print(\"Median of my_list is \", median)\n",
    "\n",
    "# Q1\n",
    "Q1 = (sorted_list[n // 4] + sorted_list[(n // 4) - 1]) / 2 if n % 4 == 0 else sorted_list[n // 4]\n",
    "print(\"Q1 of my_list is \", Q1)\n",
    "\n",
    "# Q3\n",
    "Q3 = (sorted_list[3 * n // 4] + sorted_list[3 * n // 4 - 1]) / 2 if n % 4 == 0 else sorted_list[3 * n // 4]\n",
    "print(\"Q2 of my_list is \", Q3)"
   ]
  },
  {
   "cell_type": "code",
   "execution_count": 28,
   "metadata": {},
   "outputs": [
    {
     "name": "stdout",
     "output_type": "stream",
     "text": [
      "Somthing Else\n"
     ]
    }
   ],
   "source": [
    "response_code = 203\n",
    "\n",
    "match response_code:\n",
    "    case 200:\n",
    "        print(\"OK\")\n",
    "    case 201:\n",
    "        print(\"Created\")\n",
    "    case 404:\n",
    "        print(\"404 Not Found\")\n",
    "    case 500:\n",
    "        print(\"Internal Server Error\")\n",
    "    case _:\n",
    "        print(\"Somthing Else\")\n",
    "                "
   ]
  },
  {
   "cell_type": "code",
   "execution_count": 29,
   "metadata": {},
   "outputs": [
    {
     "name": "stdout",
     "output_type": "stream",
     "text": [
      "16\n"
     ]
    }
   ],
   "source": [
    "number = [4, 5, 7]\n",
    "\n",
    "match number:\n",
    "    case [x, y]:\n",
    "        print(x * y)\n",
    "    case [x, y, z]:\n",
    "        print(x + y + z)\n",
    "    case _:\n",
    "        print(\"The list not contain correct value\")"
   ]
  },
  {
   "cell_type": "code",
   "execution_count": 30,
   "metadata": {},
   "outputs": [
    {
     "name": "stdout",
     "output_type": "stream",
     "text": [
      "The list contain two elements\n"
     ]
    }
   ],
   "source": [
    "example = [1,6]\n",
    "\n",
    "match example.__len__():\n",
    "    case 1:\n",
    "        print(\"The list contain only one element\")\n",
    "    case 2:\n",
    "        print(\"The list contain two elements\")\n",
    "    case 0:\n",
    "        print(\"The list is empty\")\n",
    "    case _:\n",
    "        print(\"Somthing else\")"
   ]
  },
  {
   "cell_type": "code",
   "execution_count": 31,
   "metadata": {},
   "outputs": [
    {
     "name": "stdout",
     "output_type": "stream",
     "text": [
      "apple\n",
      "banana\n",
      "cherry\n"
     ]
    }
   ],
   "source": [
    "fruits = [\"apple\", \"banana\", \"cherry\"]\n",
    "\n",
    "for fruit in fruits:\n",
    "    print(fruit)"
   ]
  },
  {
   "cell_type": "code",
   "execution_count": 32,
   "metadata": {},
   "outputs": [
    {
     "name": "stdout",
     "output_type": "stream",
     "text": [
      "[49, 25, 64, 16, 81, 144]\n"
     ]
    }
   ],
   "source": [
    "numbers = [7, 5, 8, 4, 9, 12]\n",
    "\n",
    "squre_numbers = []\n",
    "for number in numbers:\n",
    "    squre_numbers.append(number ** 2)\n",
    "\n",
    "print(squre_numbers)"
   ]
  },
  {
   "cell_type": "code",
   "execution_count": 33,
   "metadata": {},
   "outputs": [
    {
     "ename": "ValueError",
     "evalue": "invalid literal for int() with base 10: ''",
     "output_type": "error",
     "traceback": [
      "\u001b[1;31m---------------------------------------------------------------------------\u001b[0m",
      "\u001b[1;31mValueError\u001b[0m                                Traceback (most recent call last)",
      "Cell \u001b[1;32mIn[33], line 1\u001b[0m\n\u001b[1;32m----> 1\u001b[0m user_input \u001b[38;5;241m=\u001b[39m \u001b[38;5;28;43mint\u001b[39;49m\u001b[43m(\u001b[49m\u001b[38;5;28;43minput\u001b[39;49m\u001b[43m(\u001b[49m\u001b[38;5;124;43m\"\u001b[39;49m\u001b[38;5;124;43mEnter a input: \u001b[39;49m\u001b[38;5;124;43m\"\u001b[39;49m\u001b[43m)\u001b[49m\u001b[43m)\u001b[49m\n\u001b[0;32m      2\u001b[0m get_numbers \u001b[38;5;241m=\u001b[39m []\n\u001b[0;32m      4\u001b[0m \u001b[38;5;28;01mfor\u001b[39;00m number \u001b[38;5;129;01min\u001b[39;00m \u001b[38;5;28mrange\u001b[39m(\u001b[38;5;241m1\u001b[39m, user_input \u001b[38;5;241m+\u001b[39m \u001b[38;5;241m1\u001b[39m):\n",
      "\u001b[1;31mValueError\u001b[0m: invalid literal for int() with base 10: ''"
     ]
    }
   ],
   "source": [
    "user_input = int(input(\"Enter a input: \"))\n",
    "get_numbers = []\n",
    "\n",
    "for number in range(1, user_input + 1):\n",
    "    get_numbers.append(number ** 2)\n",
    "\n",
    "print(get_numbers)"
   ]
  },
  {
   "cell_type": "code",
   "execution_count": null,
   "metadata": {},
   "outputs": [
    {
     "name": "stdout",
     "output_type": "stream",
     "text": [
      "[4, 144, 81, 64]\n"
     ]
    }
   ],
   "source": [
    "numbers = [2, 12, 9, 8]\n",
    "\n",
    "result = [number ** 2 for number in numbers]\n",
    "\n",
    "print(result)"
   ]
  },
  {
   "cell_type": "code",
   "execution_count": null,
   "metadata": {},
   "outputs": [
    {
     "name": "stdout",
     "output_type": "stream",
     "text": [
      "[8, 12, 5, 4]\n"
     ]
    }
   ],
   "source": [
    "numbers = [8, 12, -1, 5, 4, 0, -8]\n",
    "\n",
    "result = [number for number in numbers if number > 0]\n",
    "\n",
    "print(result)"
   ]
  },
  {
   "cell_type": "code",
   "execution_count": null,
   "metadata": {},
   "outputs": [
    {
     "name": "stdout",
     "output_type": "stream",
     "text": [
      "[1, 4, 9, 16, 25]\n"
     ]
    }
   ],
   "source": [
    "user_input = int(input(\"Enter a input: \"))\n",
    "\n",
    "squre_numbers = []\n",
    "x = 1\n",
    "\n",
    "while x ** 2 <= user_input:\n",
    "    squre_numbers.append(x ** 2)\n",
    "    x = x + 1\n",
    "    \n",
    "print(squre_numbers)"
   ]
  },
  {
   "cell_type": "code",
   "execution_count": null,
   "metadata": {},
   "outputs": [
    {
     "name": "stdout",
     "output_type": "stream",
     "text": [
      "8\n",
      "9\n",
      "3\n"
     ]
    }
   ],
   "source": [
    "my_list = [8, 9, 3, 0, 12, 15]\n",
    "\n",
    "for item in my_list:\n",
    "    if item == 0:\n",
    "        break\n",
    "    else:\n",
    "        print(item)"
   ]
  },
  {
   "cell_type": "code",
   "execution_count": null,
   "metadata": {},
   "outputs": [
    {
     "name": "stdout",
     "output_type": "stream",
     "text": [
      "8\n",
      "9\n",
      "3\n",
      "12\n",
      "15\n"
     ]
    }
   ],
   "source": [
    "my_list = [8, 9, 3, 0, 12, 15]\n",
    "\n",
    "for item in my_list:\n",
    "    if item == 0:\n",
    "        continue\n",
    "    else:\n",
    "        print(item)"
   ]
  },
  {
   "cell_type": "code",
   "execution_count": null,
   "metadata": {},
   "outputs": [
    {
     "name": "stdout",
     "output_type": "stream",
     "text": [
      "100\n",
      "25\n",
      "64\n",
      "81\n"
     ]
    }
   ],
   "source": [
    "while True:\n",
    "    user_input = int(input(\"Enter a input: \"))\n",
    "    if user_input == 0:\n",
    "        break\n",
    "    else:\n",
    "        print(user_input ** 2)"
   ]
  },
  {
   "cell_type": "code",
   "execution_count": null,
   "metadata": {},
   "outputs": [
    {
     "name": "stdout",
     "output_type": "stream",
     "text": [
      "Name : Kavindu\n",
      "Age : 21\n"
     ]
    }
   ],
   "source": [
    "personal = {\n",
    "    \"Name\": \"Kavindu\",\n",
    "    \"Age\": 21,\n",
    "}\n",
    "\n",
    "for key in personal:\n",
    "    print(key, \":\" , personal[key])"
   ]
  },
  {
   "cell_type": "code",
   "execution_count": null,
   "metadata": {},
   "outputs": [
    {
     "data": {
      "text/plain": [
       "200"
      ]
     },
     "execution_count": 6,
     "metadata": {},
     "output_type": "execute_result"
    }
   ],
   "source": [
    "def calculate_circunfurance(width, height):\n",
    "    return width * height\n",
    "\n",
    "calculate_circunfurance(10, 20)"
   ]
  },
  {
   "cell_type": "code",
   "execution_count": null,
   "metadata": {},
   "outputs": [
    {
     "data": {
      "text/plain": [
       "78.5"
      ]
     },
     "execution_count": 9,
     "metadata": {},
     "output_type": "execute_result"
    }
   ],
   "source": [
    "def calculate_area(radius):\n",
    "    return 3.14 * radius ** 2\n",
    "\n",
    "calculate_area(5)"
   ]
  },
  {
   "cell_type": "code",
   "execution_count": null,
   "metadata": {},
   "outputs": [
    {
     "data": {
      "text/plain": [
       "10"
      ]
     },
     "execution_count": 11,
     "metadata": {},
     "output_type": "execute_result"
    }
   ],
   "source": [
    "def add_numbers(a, b = 5):\n",
    "    return a + b\n",
    "\n",
    "add_numbers(5)"
   ]
  },
  {
   "cell_type": "code",
   "execution_count": null,
   "metadata": {},
   "outputs": [
    {
     "data": {
      "text/plain": [
       "95"
      ]
     },
     "execution_count": 16,
     "metadata": {},
     "output_type": "execute_result"
    }
   ],
   "source": [
    "def add_numbers(a , c, b = 5):\n",
    "    return a + b\n",
    "\n",
    "add_numbers(70,25,25)\n",
    "\n",
    "# default arguments must follow non-default arguments.\n",
    "# This means that you cannot have a parameter with a default value (c = 2) before a parameter without a default value (b).\n",
    "\n"
   ]
  },
  {
   "cell_type": "code",
   "execution_count": null,
   "metadata": {},
   "outputs": [
    {
     "data": {
      "text/plain": [
       "60"
      ]
     },
     "execution_count": 19,
     "metadata": {},
     "output_type": "execute_result"
    }
   ],
   "source": [
    "# Positional Arguments\n",
    "def calculate_number(a ,b ):\n",
    "    return a + b\n",
    "\n",
    "calculate_number(10, 50)"
   ]
  },
  {
   "cell_type": "code",
   "execution_count": null,
   "metadata": {},
   "outputs": [],
   "source": [
    "def add_numbers(a, b):\n",
    "    return a + b\n",
    "\n",
    "add_numbers(b = 5, a = 2)"
   ]
  },
  {
   "cell_type": "code",
   "execution_count": null,
   "metadata": {},
   "outputs": [
    {
     "name": "stdout",
     "output_type": "stream",
     "text": [
      "Total cost :  4725.0\n"
     ]
    }
   ],
   "source": [
    "def calculate_cost(price, quantity, discount, tax_rate):\n",
    "    return price * quantity * (1 - discount) * (1 + tax_rate)\n",
    "\n",
    "print(\"Total cost : \", calculate_cost(500, 10, 0.1, 0.05))"
   ]
  },
  {
   "cell_type": "code",
   "execution_count": null,
   "metadata": {},
   "outputs": [
    {
     "name": "stdout",
     "output_type": "stream",
     "text": [
      "1. This is a multiline string,\n",
      "2. This is a multiline string,\n",
      "3. This is a multiline string,\n"
     ]
    }
   ],
   "source": [
    "mg_str = '''1. This is a multiline string,\n",
    "2. This is a multiline string,\n",
    "3. This is a multiline string,'''\n",
    "            \n",
    "print(mg_str)"
   ]
  },
  {
   "cell_type": "code",
   "execution_count": null,
   "metadata": {},
   "outputs": [
    {
     "name": "stdout",
     "output_type": "stream",
     "text": [
      "13\n",
      "o\n",
      "llo, W\n"
     ]
    }
   ],
   "source": [
    "my_str = \"Hello, World!\"\n",
    "print(len(my_str))\n",
    "print(my_str[4])\n",
    "print(my_str[2:8])"
   ]
  },
  {
   "cell_type": "code",
   "execution_count": 4,
   "metadata": {},
   "outputs": [
    {
     "name": "stdout",
     "output_type": "stream",
     "text": [
      "Student Name: Kavindu Malshan\n",
      "Highest Grade: 92\n",
      "Lowest Grade: 78\n",
      "Average Grade: 86.25\n",
      "\n",
      "Student Name: Kavindu\n",
      "No grades available\n"
     ]
    }
   ],
   "source": [
    "# Write a  pytho function called \"summerise_grades\" that accept a student name as a mandatory arguments and an abitary number of grade scores.the function should , \n",
    "# 1. print the students name\n",
    "# 2. calculate and print the highest grade lowest grade and the avarage grade from the provided scores\n",
    "# 3. If no grades are provided you should print no grades available\n",
    "\n",
    "def summerise_grades(student_name, *grades):\n",
    "    print(f\"Student Name: {student_name}\")\n",
    "    \n",
    "    if grades:\n",
    "        highest_grade = max(grades)\n",
    "        lowest_grade = min(grades)\n",
    "        average_grade = sum(grades) / len(grades)\n",
    "        \n",
    "        print(f\"Highest Grade: {highest_grade}\")\n",
    "        print(f\"Lowest Grade: {lowest_grade}\")\n",
    "        print(f\"Average Grade: {average_grade:.2f}\")\n",
    "    else:\n",
    "        print(\"No grades available\")\n",
    "\n",
    "summerise_grades(\"Kavindu Malshan\", 85, 92, 78, 90)\n",
    "print(\"\")\n",
    "summerise_grades(\"Kavindu\")"
   ]
  },
  {
   "cell_type": "code",
   "execution_count": 35,
   "metadata": {},
   "outputs": [
    {
     "name": "stdout",
     "output_type": "stream",
     "text": [
      "{'name': 'Kavindu', 'age': 21, 'country': 'Sri Lanka'} <class 'dict'>\n",
      "name: Kavindu\n",
      "age: 21\n",
      "country: Sri Lanka\n"
     ]
    }
   ],
   "source": [
    "def arbitrary_keyword_arguments(**kwargs):\n",
    "    print(kwargs, type(kwargs))\n",
    "    for key, value in kwargs.items():\n",
    "        print(f\"{key}: {value}\")\n",
    "        \n",
    "arbitrary_keyword_arguments(name = \"Kavindu\", age = 21, country = \"Sri Lanka\")"
   ]
  },
  {
   "cell_type": "code",
   "execution_count": null,
   "metadata": {},
   "outputs": [
    {
     "name": "stdout",
     "output_type": "stream",
     "text": [
      "Employee Name: Kavindu Malshan\n",
      "age: 21\n",
      "department: HR\n",
      "location: Galle\n",
      "{'name': 'Kavindu Malshan', 'age': 21, 'department': 'HR', 'location': 'Galle'}\n"
     ]
    }
   ],
   "source": [
    "# Write a python function called \"employee_info\" that accept a required 'name' parameter and an arbitrary number of keyword arguments representing aditional details about the employee. \n",
    "# The function should print the employee name \n",
    "# iterate through the keyword arguments and print each key-value pair in the format \"key: value\" \n",
    "# Modify the employee info function to return a dictionary containing all the employee details (including name and the additional attributes past via kwargs).\n",
    "\n",
    "def employee_info(name, **kwargs):\n",
    "    print(f\"Employee Name: {name}\")\n",
    "    for key, value in kwargs.items():\n",
    "        print(f\"{key}: {value}\")\n",
    "    \n",
    "    employee_details = {\"name\": name}\n",
    "    employee_details.update(kwargs)\n",
    "    return employee_details\n",
    "\n",
    "info = employee_info(\"Kavindu Malshan\", age=21, department=\"HR\", location=\"Galle\")\n",
    "print(info)"
   ]
  },
  {
   "cell_type": "code",
   "execution_count": 40,
   "metadata": {},
   "outputs": [
    {
     "data": {
      "text/plain": [
       "5"
      ]
     },
     "execution_count": 40,
     "metadata": {},
     "output_type": "execute_result"
    }
   ],
   "source": [
    "abs(-5)"
   ]
  },
  {
   "cell_type": "code",
   "execution_count": 42,
   "metadata": {},
   "outputs": [
    {
     "name": "stdout",
     "output_type": "stream",
     "text": [
      "<map object at 0x00000238ACB2EA10> <class 'map'>\n",
      "[25, 64, 81, 144, 225]\n"
     ]
    }
   ],
   "source": [
    "def cal_square(n):\n",
    "    return n ** 2\n",
    "\n",
    "mg_list = [5, 8, 9, 12, 15]\n",
    "result = map(cal_square, mg_list)\n",
    "print(result, type(result))\n",
    "print(list(result))"
   ]
  },
  {
   "cell_type": "code",
   "execution_count": 47,
   "metadata": {},
   "outputs": [
    {
     "name": "stdout",
     "output_type": "stream",
     "text": [
      "\n"
     ]
    }
   ],
   "source": [
    "mg_list = [5, 8, 9, 12, 15]\n",
    "mg_list_2 = [2, 3, 4, 5, 6]\n",
    "\n",
    "def result(a, b):\n",
    "    set = a + b\n",
    "    return set\n",
    "\n",
    "result = list(map(result, mg_list, mg_list_2))\n",
    "print()"
   ]
  },
  {
   "cell_type": "code",
   "execution_count": null,
   "metadata": {},
   "outputs": [
    {
     "name": "stdout",
     "output_type": "stream",
     "text": [
      "[68.0, 86.0, 77.0, 104.0, 59.0]\n"
     ]
    }
   ],
   "source": [
    "def celsius_to_fahrenheit(celsius):\n",
    "    return celsius * 9/5 + 32\n",
    "\n",
    "temperatures = [20, 30, 25, 40, 15]\n",
    "\n",
    "fahrenheit_temperatures = list(map(celsius_to_fahrenheit, temperatures))\n",
    "print(fahrenheit_temperatures)"
   ]
  },
  {
   "cell_type": "code",
   "execution_count": 57,
   "metadata": {},
   "outputs": [
    {
     "name": "stdout",
     "output_type": "stream",
     "text": [
      "[2, 4, 6, 8, 10]\n"
     ]
    }
   ],
   "source": [
    "# filter(function, iterable)\n",
    "\n",
    "def check_even(n):\n",
    "    return n % 2 == 0\n",
    "\n",
    "iterable = [1, 2, 3, 4, 5, 6, 7, 8, 9, 10]\n",
    "result = filter(check_even, iterable)\n",
    "print(list(result))"
   ]
  },
  {
   "cell_type": "code",
   "execution_count": 59,
   "metadata": {},
   "outputs": [
    {
     "name": "stdout",
     "output_type": "stream",
     "text": [
      "11\n"
     ]
    }
   ],
   "source": [
    "# Define an anonymous function using lambda that takes two arguments a and b and returns their sum\n",
    "add = lambda a, b: a + b\n",
    "\n",
    "# Call the lambda function with arguments 5 and 6, and print the result\n",
    "print(add(5, 6))  # Output: 11"
   ]
  },
  {
   "cell_type": "code",
   "execution_count": 60,
   "metadata": {},
   "outputs": [
    {
     "name": "stdout",
     "output_type": "stream",
     "text": [
      "25\n"
     ]
    }
   ],
   "source": [
    " # write a lambda function to return the power of 2 of a given number\n",
    "power = lambda x: x ** 2\n",
    "\n",
    "print(power(5))"
   ]
  },
  {
   "cell_type": "code",
   "execution_count": 61,
   "metadata": {},
   "outputs": [
    {
     "name": "stdout",
     "output_type": "stream",
     "text": [
      "[('Kavindu', 21), ('Kasun', 25)]\n"
     ]
    }
   ],
   "source": [
    "# write a python program\n",
    "# 1. Take a list of tuples where each tuple contains a name(String) and each (integer).\n",
    "# 2. use a lambda function to filter out the tuples where the age is less than 18.\n",
    "\n",
    "people = [(\"Kavindu\", 21), (\"Malshan\", 17), (\"Kasun\", 25), (\"Nimal\", 15)]\n",
    "\n",
    "adults = list(filter(lambda person: person[1] >= 18, people))\n",
    "\n",
    "print(adults)"
   ]
  },
  {
   "cell_type": "code",
   "execution_count": null,
   "metadata": {},
   "outputs": [
    {
     "name": "stdout",
     "output_type": "stream",
     "text": [
      "8\n"
     ]
    }
   ],
   "source": [
    "largest_number = lambda x, y: x if x > y else y\n",
    "\n",
    "print(largest_number(2, 8))"
   ]
  },
  {
   "cell_type": "code",
   "execution_count": 25,
   "metadata": {},
   "outputs": [
    {
     "name": "stdout",
     "output_type": "stream",
     "text": [
      "The factorial of the 10 is 3628800\n"
     ]
    }
   ],
   "source": [
    "def factorial(n):\n",
    "    if n < 0:\n",
    "        return \"negetive number has no factorial\"\n",
    "    elif n == 0 or n == 1:\n",
    "        return 1\n",
    "    else:\n",
    "        result = 1\n",
    "        for i in range(2, n + 1):\n",
    "            result *= i\n",
    "        return result\n",
    "\n",
    "number = 10\n",
    "print(f\"The factorial of the {number} is {factorial(number)}\")"
   ]
  },
  {
   "cell_type": "code",
   "execution_count": 21,
   "metadata": {},
   "outputs": [
    {
     "data": {
      "text/plain": [
       "2424858401169875856987549316530261243529336396354700842715749979460646110058233651782392648030625575890603295838549136086203631494904372698578181999057212055535785846413969420066573092861481554378165635499319577948946469878800693106187103360224139995239288292467274991657581799887960732860730465294056429604010675825650845592134295845654185424392132561718318353026455262912039002664120813132000602020151818744862796534620281615341820385425346251471878908201301227337883132211649086124629581129201309548248991126780745470297556208250525153383428851713805456555419758707284753260768805845944423382917543868035509410367649517977378961396490420583560768554085728596839435423979501005167390976056828737759722931049053051870481354220566751757226315251920734049093559363656820097662644345104685665152444697669009659982518091310671058073959926600845011866653850725006741331610135998770449096045426206531544154144601729043078225608136613193686346346764203375001081246967670378990121777385901921245133042374777487279240176076181929206652760242551593468206588418766183401939736514661022447416367789422605988204789848476655904174023752533626768590363300938231129606313365312387913130971900390208938471907315110717317435321123464794906710193916413838207147074458529525935478113361841325520841044346267628381902449941524896332350384902526765982148700924154884023605222691782597459599121027544229955922681404443327840648118042191399221650956164672857148227101451532445295161873221075926687151309815858723796054292521542311108190618276056103071140889723197707702368244847779594197140241112042128900654662720100758519336991189420021569389659862373674109453168227154296233208845394442627758282640964050502230911632608683569869755423400072413157317525410032842653580093887735517690412593258359388487289802270353135756659547954667344672901471048389223259683469006995762263469036620522300662493285722212048473141061111827211648276284983691538501299996459350066613212712170474963890532178735800245974574640904674554123815017979113627519922145830691096868313633320304359164703825903963661604335411773033078697699311892617463175229334854531701631075383899708905233041291527887059381689504636267968336033244928031019352467588242769652345533099117594059102256248189810284600657855707971881794779733938869280438373216606816889288287015049782284899585369920877745590840887712363661997881545433844629800189205229597440143179700162824702134957418586285920953284900382720017357876988767296282790084172114532622647998154080918863914038958583660595208167281479883677535909771428614756103440615905873310606657147769597200148222567970379939256596381142850272187439045199365546037482887333248526026065549397730475314476322168067523034600032867511743419691437003992038152628324659432676263448764134014429405489180634364519282138519962363193701386950109467042340571843977537752976341094127822030600936793871334872293490903117072170466054983434825167266916722980296391441044563178977701723309785609111259614474247364528550386532388327264689711775604664427340228901835597557029992960492192464058200400988909295153551200837397817601282679220611104173652358509007521101053095620748168997861050130023817703319787079095235833374426177514286578246903083415169109359323812741314724620593271262917265094024216337214863533448529254632599541703878619604512594846124252613960262726215219134672211844311020666195270036284140614857902974771290503656870984782590335117218368984797972576852801418834170795097602013208317371156612874344638041764532057542786831351076365498540443813006372421380736034740771076764178132559828434447544678633583005046265334346831012385703067191550416222980088761154519553974935287498676582754658553261232252765802371799256016444945115393409561160793126126735836975302341046431089640850574341354122545220831810806852068691732327187184240511538962440151159519314143893886850233861037997459199145386272154940965985357257552760909210073432064000000000000000000000000000000000000000000000000000000000000000000000000000000000000000000000000000000000000000000000000000000000000000000000000000000000000000000000000000000000000000000000000000000000000000000000000000000000000000000000000000000000000000000000000000000000000000000000000000000000000000000000000000000000000000000000000000000000000000000000000000000000000000000000000000"
      ]
     },
     "execution_count": 21,
     "metadata": {},
     "output_type": "execute_result"
    }
   ],
   "source": [
    "def find_factorial(x):\n",
    "    if x < 0:\n",
    "        return \"negative number has no factorial\"\n",
    "    elif x == 1 or x == 0:\n",
    "        return 1\n",
    "    else:\n",
    "        return x * find_factorial(x - 1)\n",
    "    \n",
    "number = 1558\n",
    "find_factorial(number)"
   ]
  },
  {
   "cell_type": "code",
   "execution_count": 32,
   "metadata": {},
   "outputs": [
    {
     "name": "stdout",
     "output_type": "stream",
     "text": [
      "The sum of all the elements in the list using recursion is: 11\n"
     ]
    }
   ],
   "source": [
    "# Example 01\n",
    "# Calculate the sum of all the elements is and array or list\n",
    "def recursive_sum(numbers):\n",
    "    if not numbers:\n",
    "        return 0\n",
    "    return numbers[0] + recursive_sum(numbers[1:])\n",
    "\n",
    "\n",
    "numbers = [1, 2, 3, 0, 5]\n",
    "total_sum_recursive = recursive_sum(numbers)\n",
    "print(f\"The sum of all the elements in the list using recursion is: {total_sum_recursive}\")"
   ]
  },
  {
   "cell_type": "code",
   "execution_count": 35,
   "metadata": {},
   "outputs": [
    {
     "name": "stdout",
     "output_type": "stream",
     "text": [
      "The 15th number in the Fibonacci sequence is: 2241\n"
     ]
    }
   ],
   "source": [
    "# Example 2: Implement a recursive function to generate the nth number in the Fibonacci sequence.\n",
    "# The Fibonacci sequence starts with 8 and 1, and each subsequent number is the sum of the two preceding ones.\n",
    "\n",
    "def fibonacci(n):\n",
    "    if n <= 0:\n",
    "        return \"Input should be a positive integer\"\n",
    "    elif n == 1:\n",
    "        return 8\n",
    "    elif n == 2:\n",
    "        return 1\n",
    "    else:\n",
    "        return fibonacci(n - 1) + fibonacci(n - 2)\n",
    "\n",
    "n = 15\n",
    "print(f\"The {n}th number in the Fibonacci sequence is: {fibonacci(n)}\")"
   ]
  }
 ],
 "metadata": {
  "kernelspec": {
   "display_name": "Python 3",
   "language": "python",
   "name": "python3"
  },
  "language_info": {
   "codemirror_mode": {
    "name": "ipython",
    "version": 3
   },
   "file_extension": ".py",
   "mimetype": "text/x-python",
   "name": "python",
   "nbconvert_exporter": "python",
   "pygments_lexer": "ipython3",
   "version": "3.13.0"
  }
 },
 "nbformat": 4,
 "nbformat_minor": 2
}
